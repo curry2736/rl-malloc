{
 "cells": [
  {
   "cell_type": "code",
   "execution_count": null,
   "metadata": {},
   "outputs": [],
   "source": [
    "import numpy as np\n",
    "from page import Page\n",
    "from allocators.best_fit_allocator import BestFitAllocator\n",
    "from allocators.first_fit_allocator import FirstFitAllocator\n",
    "from allocators.worst_fit_allocator import WorstFitAllocator"
   ]
  },
  {
   "cell_type": "code",
   "execution_count": null,
   "metadata": {},
   "outputs": [],
   "source": [
    "# #test page\n",
    "# bitmap = np.array([0,0,0,1,1,1,1,1,1, 0,1,0,1,0,1])\n",
    "# is_zero = np.concatenate(([True], bitmap == 1, [True]))\n",
    "# abs_diff = np.abs(np.diff(is_zero.astype(int)))\n",
    "\n",
    "# ranges = np.where(abs_diff == 1)[0].reshape(-1, 2)\n",
    "# fl = [{\"idx\": start, \"size\": end-start} for start, end in ranges]\n",
    "# print(fl)"
   ]
  },
  {
   "cell_type": "code",
   "execution_count": null,
   "metadata": {},
   "outputs": [],
   "source": [
    "#test first fit\n",
    "page = Page(page_size=16)\n",
    "page.bitmap = np.array([0,0,0,1,1,1,1,1,1, 0,1,0,0,0,1,0])\n",
    "print(\"initial bitmap: \", page.bitmap)\n",
    "print(\"----------------------------------\")\n",
    "\n",
    "requests = [(\"a\", 1), (\"a\", 2), (\"a\", 3), (\"f\", 1), (\"f\", 0), (\"f\", 11)]\n",
    "first_fit_allocator = FirstFitAllocator()\n",
    "first_fit_allocator.pages_in_use.append(page)\n",
    "for req in requests:\n",
    "    print(\"Request size: \", req)\n",
    "    if req[0] == \"a\":\n",
    "        page_idx, block_idx = first_fit_allocator.handle_alloc_req(req[1])\n",
    "        print(f\"Allocating at page {page_idx}, block {block_idx}\")\n",
    "\n",
    "        print(\"Allocation result: \", page.allocate(block_idx, req[1]))\n",
    "    else:\n",
    "        print(\"Freeing block: \", req[1])\n",
    "        page.free(req[1])\n",
    "\n",
    "print(\"----------------------------------\")\n",
    "print(page.bitmap)\n",
    "print(page.free_list)\n",
    "print(page.allocated_list)"
   ]
  },
  {
   "cell_type": "code",
   "execution_count": null,
   "metadata": {},
   "outputs": [],
   "source": [
    "#test best fit\n",
    "page = Page(page_size=16)\n",
    "page.bitmap = np.array([0,0,0,0,1,0,0,1,1,0,1,0,0,0,1,1])\n",
    "page.free_list = [{\"idx\": 0, \"size\": 4}, {\"idx\": 5, \"size\": 2}, {\"idx\": 9, \"size\": 1}, {\"idx\": 6, \"size\": 3}]\n",
    "print(\"initial bitmap: \", page.bitmap)\n",
    "print(\"----------------------------------\")\n",
    "\n",
    "requests = [(\"a\", 1), (\"a\", 3)]\n",
    "best_fit_allocator = BestFitAllocator()\n",
    "best_fit_allocator.pages_in_use.append(page)\n",
    "for req in requests:\n",
    "    print(\"Request size: \", req)\n",
    "    if req[0] == \"a\":\n",
    "        page_idx, block_idx = best_fit_allocator.handle_alloc_req(req[1])\n",
    "        print(f\"Allocating at page {page_idx}, block {block_idx}\")\n",
    "\n",
    "        print(\"Allocation result: \", page.allocate(block_idx, req[1]))\n",
    "    else:\n",
    "        print(\"Freeing block: \", req[1])\n",
    "        page.free(req[1])\n",
    "\n",
    "print(\"----------------------------------\")\n",
    "print(page.bitmap)\n",
    "print(page.free_list)\n",
    "print(page.allocated_list)"
   ]
  },
  {
   "cell_type": "code",
   "execution_count": null,
   "metadata": {},
   "outputs": [],
   "source": [
    "#test worst fit\n",
    "#test best fit\n",
    "page = Page(page_size=16)\n",
    "page.bitmap = np.array([0,0,0,0,1,0,0,1,1,0,1,0,0,0,1,1])\n",
    "page.free_list = [{\"idx\": 0, \"size\": 4}, {\"idx\": 5, \"size\": 2}, {\"idx\": 9, \"size\": 1}, {\"idx\": 6, \"size\": 3}]\n",
    "print(\"initial bitmap: \", page.bitmap)\n",
    "print(\"----------------------------------\")\n",
    "\n",
    "requests = [(\"a\", 1), (\"a\", 3)]\n",
    "worst_fit_allocator = WorstFitAllocator()\n",
    "worst_fit_allocator.pages_in_use.append(page)\n",
    "for req in requests:\n",
    "    print(\"Request size: \", req)\n",
    "    if req[0] == \"a\":\n",
    "        page_idx, block_idx = worst_fit_allocator.handle_alloc_req(req[1])\n",
    "        print(f\"Allocating at page {page_idx}, block {block_idx}\")\n",
    "\n",
    "        print(\"Allocation result: \", page.allocate(block_idx, req[1]))\n",
    "    else:\n",
    "        print(\"Freeing block: \", req[1])\n",
    "        page.free(req[1])\n",
    "\n",
    "print(\"----------------------------------\")\n",
    "print(page.bitmap)\n",
    "print(page.free_list)"
   ]
  }
 ],
 "metadata": {
  "kernelspec": {
   "display_name": "Python 3",
   "language": "python",
   "name": "python3"
  },
  "language_info": {
   "codemirror_mode": {
    "name": "ipython",
    "version": 3
   },
   "file_extension": ".py",
   "mimetype": "text/x-python",
   "name": "python",
   "nbconvert_exporter": "python",
   "pygments_lexer": "ipython3",
   "version": "3.10.0"
  }
 },
 "nbformat": 4,
 "nbformat_minor": 2
}
