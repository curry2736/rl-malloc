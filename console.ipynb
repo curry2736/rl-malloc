{
 "cells": [
  {
   "cell_type": "code",
   "execution_count": 1,
   "metadata": {},
   "outputs": [],
   "source": [
    "import numpy as np\n",
    "from page import Page\n",
    "from allocators.best_fit_allocator import BestFitAllocator\n",
    "from allocators.first_fit_allocator import FirstFitAllocator\n",
    "from allocators.worst_fit_allocator import WorstFitAllocator"
   ]
  },
  {
   "cell_type": "code",
   "execution_count": 2,
   "metadata": {},
   "outputs": [],
   "source": [
    "# #test page\n",
    "# bitmap = np.array([0,0,0,1,1,1,1,1,1, 0,1,0,1,0,1])\n",
    "# is_zero = np.concatenate(([True], bitmap == 1, [True]))\n",
    "# abs_diff = np.abs(np.diff(is_zero.astype(int)))\n",
    "\n",
    "# ranges = np.where(abs_diff == 1)[0].reshape(-1, 2)\n",
    "# fl = [{\"idx\": start, \"size\": end-start} for start, end in ranges]\n",
    "# print(fl)"
   ]
  },
  {
   "cell_type": "code",
   "execution_count": 3,
   "metadata": {},
   "outputs": [
    {
     "name": "stdout",
     "output_type": "stream",
     "text": [
      "initial bitmap:  [0 0 0 1 1 1 1 1 1 0 1 0 0 0 1 0]\n",
      "----------------------------------\n",
      "Request size:  ('a', 1)\n",
      "In handle_alloc_req(), Handling allocation request of size:  1\n",
      "Allocating at page 0, block 0\n",
      "Allocation result:  True\n",
      "Request size:  ('a', 2)\n",
      "In handle_alloc_req(), Handling allocation request of size:  2\n",
      "Allocating at page 0, block 1\n",
      "Allocation result:  True\n",
      "Request size:  ('a', 3)\n",
      "In handle_alloc_req(), Handling allocation request of size:  3\n",
      "Allocating at page 0, block 11\n",
      "Allocation result:  True\n",
      "Request size:  ('f', 1)\n",
      "Freeing block:  1\n",
      "Request size:  ('f', 0)\n",
      "Freeing block:  0\n",
      "Request size:  ('f', 11)\n",
      "Freeing block:  11\n",
      "----------------------------------\n",
      "[0 0 0 1 1 1 1 1 1 0 1 0 0 0 1 0]\n",
      "[{'idx': 0, 'size': 3}, {'idx': 9, 'size': 1}, {'idx': 11, 'size': 3}, {'idx': 15, 'size': 1}]\n",
      "{}\n"
     ]
    }
   ],
   "source": [
    "#test first fit\n",
    "page = Page(page_size=16)\n",
    "page.bitmap = np.array([0,0,0,1,1,1,1,1,1, 0,1,0,0,0,1,0])\n",
    "print(\"initial bitmap: \", page.bitmap)\n",
    "print(\"----------------------------------\")\n",
    "\n",
    "requests = [(\"a\", 1), (\"a\", 2), (\"a\", 3), (\"f\", 1), (\"f\", 0), (\"f\", 11)]\n",
    "first_fit_allocator = FirstFitAllocator()\n",
    "first_fit_allocator.pages_in_use.append(page)\n",
    "for req in requests:\n",
    "    print(\"Request size: \", req)\n",
    "    if req[0] == \"a\":\n",
    "        page_idx, block_idx = first_fit_allocator.handle_alloc_req([page], req[1])\n",
    "        print(f\"Allocating at page {page_idx}, block {block_idx}\")\n",
    "\n",
    "        print(\"Allocation result: \", page.allocate(block_idx, req[1]))\n",
    "    else:\n",
    "        print(\"Freeing block: \", req[1])\n",
    "        page.free(req[1])\n",
    "\n",
    "print(\"----------------------------------\")\n",
    "print(page.bitmap)\n",
    "print(page.free_list)\n",
    "print(page.allocated_list)"
   ]
  },
  {
   "cell_type": "code",
   "execution_count": 4,
   "metadata": {},
   "outputs": [
    {
     "name": "stdout",
     "output_type": "stream",
     "text": [
      "initial bitmap:  [0 0 0 0 1 0 0 1 1 0 1 0 0 0 1 1]\n",
      "----------------------------------\n",
      "Request size:  ('a', 1)\n",
      "Allocating at page 0, block 9\n",
      "Allocation result:  True\n",
      "Request size:  ('a', 3)\n",
      "Allocating at page 0, block 11\n",
      "Allocation result:  True\n",
      "----------------------------------\n",
      "[0 0 0 0 1 0 0 1 1 1 1 1 1 1 1 1]\n",
      "[{'idx': 0, 'size': 4}, {'idx': 5, 'size': 2}]\n",
      "{9: 1, 11: 3}\n"
     ]
    }
   ],
   "source": [
    "#test best fit\n",
    "page = Page(page_size=16)\n",
    "page.bitmap = np.array([0,0,0,0,1,0,0,1,1,0,1,0,0,0,1,1])\n",
    "page.free_list = [{\"idx\": 0, \"size\": 4}, {\"idx\": 5, \"size\": 2}, {\"idx\": 9, \"size\": 1}, {\"idx\": 6, \"size\": 3}]\n",
    "print(\"initial bitmap: \", page.bitmap)\n",
    "print(\"----------------------------------\")\n",
    "\n",
    "requests = [(\"a\", 1), (\"a\", 3)]\n",
    "best_fit_allocator = BestFitAllocator()\n",
    "best_fit_allocator.pages_in_use.append(page)\n",
    "for req in requests:\n",
    "    print(\"Request size: \", req)\n",
    "    if req[0] == \"a\":\n",
    "        page_idx, block_idx = best_fit_allocator.handle_alloc_req([page], req[1])\n",
    "        print(f\"Allocating at page {page_idx}, block {block_idx}\")\n",
    "\n",
    "        print(\"Allocation result: \", page.allocate(block_idx, req[1]))\n",
    "    else:\n",
    "        print(\"Freeing block: \", req[1])\n",
    "        page.free(req[1])\n",
    "\n",
    "print(\"----------------------------------\")\n",
    "print(page.bitmap)\n",
    "print(page.free_list)\n",
    "print(page.allocated_list)"
   ]
  },
  {
   "cell_type": "code",
   "execution_count": 5,
   "metadata": {},
   "outputs": [
    {
     "name": "stdout",
     "output_type": "stream",
     "text": [
      "initial bitmap:  [0 0 0 0 1 0 0 1 1 0 1 0 0 0 1 1]\n",
      "----------------------------------\n",
      "Request size:  ('a', 1)\n",
      "Allocating at page 0, block 0\n",
      "Allocation result:  True\n",
      "Request size:  ('a', 3)\n",
      "Allocating at page 0, block 1\n",
      "Allocation result:  True\n",
      "----------------------------------\n",
      "[1 1 1 1 1 0 0 1 1 0 1 0 0 0 1 1]\n",
      "[{'idx': 5, 'size': 2}, {'idx': 9, 'size': 1}, {'idx': 11, 'size': 3}]\n"
     ]
    }
   ],
   "source": [
    "#test worst fit\n",
    "page = Page(page_size=16)\n",
    "page.bitmap = np.array([0,0,0,0,1,0,0,1,1,0,1,0,0,0,1,1])\n",
    "page.free_list = [{\"idx\": 0, \"size\": 4}, {\"idx\": 5, \"size\": 2}, {\"idx\": 9, \"size\": 1}, {\"idx\": 6, \"size\": 3}]\n",
    "print(\"initial bitmap: \", page.bitmap)\n",
    "print(\"----------------------------------\")\n",
    "\n",
    "requests = [(\"a\", 1), (\"a\", 3)]\n",
    "worst_fit_allocator = WorstFitAllocator()\n",
    "worst_fit_allocator.pages_in_use.append(page)\n",
    "for req in requests:\n",
    "    print(\"Request size: \", req)\n",
    "    if req[0] == \"a\":\n",
    "        page_idx, block_idx = worst_fit_allocator.handle_alloc_req([page], req[1])\n",
    "        print(f\"Allocating at page {page_idx}, block {block_idx}\")\n",
    "\n",
    "        print(\"Allocation result: \", page.allocate(block_idx, req[1]))\n",
    "    else:\n",
    "        print(\"Freeing block: \", req[1])\n",
    "        page.free(req[1])\n",
    "\n",
    "print(\"----------------------------------\")\n",
    "print(page.bitmap)\n",
    "print(page.free_list)"
   ]
  },
  {
   "cell_type": "code",
   "execution_count": 6,
   "metadata": {},
   "outputs": [
    {
     "name": "stdout",
     "output_type": "stream",
     "text": [
      "<class 'request_streams.base_request_stream_dist.BaseRequestStreamDist'>\n",
      "self.request_stream:  AllocationRequestStream: BaseRequestStreamDist\n",
      "In get_next_req()\n",
      "    free_or_alloc:  1 allocated_indices:  []\n",
      "in _get_state()\n",
      "    Request contents - free_or_alloc: 1, mem_addr_or_amt: 50, int(new_traj): 0)\n",
      "dict_keys(['bitmap', 'rq', 'pages']) (1, 256) [ 1 50  0] [<page.Page object at 0x000001DE3231E970>] False\n"
     ]
    }
   ],
   "source": [
    "from environments.single_state_env import SingleStateEnv\n",
    "from allocators.first_fit_allocator import FirstFitAllocator\n",
    "\n",
    "env = SingleStateEnv()\n",
    "s, done = env.reset()\n",
    "print(s.keys(),s[\"bitmap\"].shape, s[\"rq\"], s['pages'],done)\n",
    "\n"
   ]
  },
  {
   "cell_type": "code",
   "execution_count": 7,
   "metadata": {},
   "outputs": [
    {
     "name": "stdout",
     "output_type": "stream",
     "text": [
      "    Current page's free list:  [{'idx': 5, 'size': 2}, {'idx': 9, 'size': 1}, {'idx': 11, 'size': 3}] Current page's allocated list:  {0: 1, 1: 3}\n",
      "None\n",
      "In handle_alloc_req(), Handling allocation request of size:  50\n",
      "In get_next_req()\n",
      "    free_or_alloc:  0 allocated_indices:  [0]\n",
      "in _get_state()\n",
      "    Request contents - free_or_alloc: 0, mem_addr_or_amt: 0, int(new_traj): 0)\n",
      "----------------------------------\n",
      "    Current page's free list:  [{'idx': 5, 'size': 2}, {'idx': 9, 'size': 1}, {'idx': 11, 'size': 3}] Current page's allocated list:  {0: 1, 1: 3}\n",
      "None\n",
      "In get_next_req()\n",
      "    free_or_alloc:  0 allocated_indices:  []\n",
      "in _get_state()\n",
      "    Request contents - free_or_alloc: 1, mem_addr_or_amt: 4, int(new_traj): 0)\n",
      "----------------------------------\n",
      "    Current page's free list:  [{'idx': 5, 'size': 2}, {'idx': 9, 'size': 1}, {'idx': 11, 'size': 3}] Current page's allocated list:  {0: 1, 1: 3}\n",
      "None\n",
      "In handle_alloc_req(), Handling allocation request of size:  4\n",
      "In get_next_req()\n",
      "    free_or_alloc:  1 allocated_indices:  [0]\n",
      "in _get_state()\n",
      "    Request contents - free_or_alloc: 1, mem_addr_or_amt: 2, int(new_traj): 0)\n",
      "----------------------------------\n",
      "    Current page's free list:  [{'idx': 5, 'size': 2}, {'idx': 9, 'size': 1}, {'idx': 11, 'size': 3}] Current page's allocated list:  {0: 1, 1: 3}\n",
      "None\n",
      "In handle_alloc_req(), Handling allocation request of size:  2\n",
      "In get_next_req()\n",
      "    free_or_alloc:  1 allocated_indices:  [0, 4]\n",
      "in _get_state()\n",
      "    Request contents - free_or_alloc: 1, mem_addr_or_amt: 50, int(new_traj): 0)\n",
      "----------------------------------\n",
      "    Current page's free list:  [{'idx': 5, 'size': 2}, {'idx': 9, 'size': 1}, {'idx': 11, 'size': 3}] Current page's allocated list:  {0: 1, 1: 3}\n",
      "None\n",
      "In handle_alloc_req(), Handling allocation request of size:  50\n",
      "In get_next_req()\n",
      "    free_or_alloc:  1 allocated_indices:  [0, 4, 6]\n",
      "in _get_state()\n",
      "    Request contents - free_or_alloc: 1, mem_addr_or_amt: 1, int(new_traj): 0)\n",
      "----------------------------------\n",
      "    Current page's free list:  [{'idx': 5, 'size': 2}, {'idx': 9, 'size': 1}, {'idx': 11, 'size': 3}] Current page's allocated list:  {0: 1, 1: 3}\n",
      "None\n",
      "In handle_alloc_req(), Handling allocation request of size:  1\n",
      "In get_next_req()\n",
      "    free_or_alloc:  0 allocated_indices:  [0, 4, 6, 56]\n",
      "in _get_state()\n",
      "    Request contents - free_or_alloc: 0, mem_addr_or_amt: 4, int(new_traj): 0)\n",
      "----------------------------------\n",
      "    Current page's free list:  [{'idx': 5, 'size': 2}, {'idx': 9, 'size': 1}, {'idx': 11, 'size': 3}] Current page's allocated list:  {0: 1, 1: 3}\n",
      "None\n",
      "In get_next_req()\n",
      "    free_or_alloc:  0 allocated_indices:  [0, 4, 6, 56]\n",
      "in _get_state()\n",
      "    Request contents - free_or_alloc: 0, mem_addr_or_amt: 56, int(new_traj): 0)\n",
      "----------------------------------\n",
      "    Current page's free list:  [{'idx': 5, 'size': 2}, {'idx': 9, 'size': 1}, {'idx': 11, 'size': 3}] Current page's allocated list:  {0: 1, 1: 3}\n",
      "None\n",
      "In get_next_req()\n",
      "    free_or_alloc:  0 allocated_indices:  [0, 4, 6, 56]\n",
      "in _get_state()\n",
      "    Request contents - free_or_alloc: 0, mem_addr_or_amt: 4, int(new_traj): 0)\n",
      "----------------------------------\n",
      "    Current page's free list:  [{'idx': 5, 'size': 2}, {'idx': 9, 'size': 1}, {'idx': 11, 'size': 3}] Current page's allocated list:  {0: 1, 1: 3}\n",
      "None\n"
     ]
    },
    {
     "ename": "AssertionError",
     "evalue": "Address 4 was never allocated!",
     "output_type": "error",
     "traceback": [
      "\u001b[1;31m---------------------------------------------------------------------------\u001b[0m",
      "\u001b[1;31mAssertionError\u001b[0m                            Traceback (most recent call last)",
      "Cell \u001b[1;32mIn[7], line 12\u001b[0m\n\u001b[0;32m      9\u001b[0m \u001b[38;5;28;01melse\u001b[39;00m:\n\u001b[0;32m     10\u001b[0m     ac \u001b[38;5;241m=\u001b[39m allocator\u001b[38;5;241m.\u001b[39mhandle_alloc_req(s[\u001b[38;5;124m\"\u001b[39m\u001b[38;5;124mpages\u001b[39m\u001b[38;5;124m\"\u001b[39m], s[\u001b[38;5;124m\"\u001b[39m\u001b[38;5;124mrq\u001b[39m\u001b[38;5;124m\"\u001b[39m][\u001b[38;5;241m1\u001b[39m])[\u001b[38;5;241m1\u001b[39m]\n\u001b[1;32m---> 12\u001b[0m s,r,done \u001b[38;5;241m=\u001b[39m \u001b[43menv\u001b[49m\u001b[38;5;241;43m.\u001b[39;49m\u001b[43mstep\u001b[49m\u001b[43m(\u001b[49m\u001b[43m[\u001b[49m\u001b[43ms\u001b[49m\u001b[43m[\u001b[49m\u001b[38;5;124;43m\"\u001b[39;49m\u001b[38;5;124;43mrq\u001b[39;49m\u001b[38;5;124;43m\"\u001b[39;49m\u001b[43m]\u001b[49m\u001b[43m[\u001b[49m\u001b[38;5;241;43m0\u001b[39;49m\u001b[43m]\u001b[49m\u001b[43m,\u001b[49m\u001b[43m \u001b[49m\u001b[43mac\u001b[49m\u001b[43m]\u001b[49m\u001b[43m)\u001b[49m\n\u001b[0;32m     13\u001b[0m \u001b[38;5;28mprint\u001b[39m(\u001b[38;5;124m\"\u001b[39m\u001b[38;5;124m----------------------------------\u001b[39m\u001b[38;5;124m\"\u001b[39m)\n",
      "File \u001b[1;32mc:\\Users\\lawso\\OneDrive\\Documents\\school\\SPRING 2024\\C S 394R\\project\\environments\\base_env.py:47\u001b[0m, in \u001b[0;36mBaseEnv.step\u001b[1;34m(self, action)\u001b[0m\n\u001b[0;32m     45\u001b[0m         \u001b[38;5;28mself\u001b[39m\u001b[38;5;241m.\u001b[39mrequest_stream\u001b[38;5;241m.\u001b[39madd_to_allocated_indices(action[\u001b[38;5;241m1\u001b[39m])\n\u001b[0;32m     46\u001b[0m \u001b[38;5;28;01melse\u001b[39;00m:\n\u001b[1;32m---> 47\u001b[0m     \u001b[38;5;28;43mself\u001b[39;49m\u001b[38;5;241;43m.\u001b[39;49m\u001b[43mpage\u001b[49m\u001b[38;5;241;43m.\u001b[39;49m\u001b[43mfree\u001b[49m\u001b[43m(\u001b[49m\u001b[43maction\u001b[49m\u001b[43m[\u001b[49m\u001b[38;5;241;43m1\u001b[39;49m\u001b[43m]\u001b[49m\u001b[43m)\u001b[49m\n\u001b[0;32m     48\u001b[0m     \u001b[38;5;28mself\u001b[39m\u001b[38;5;241m.\u001b[39mrequest_stream\u001b[38;5;241m.\u001b[39mremove_from_allocated_indices(action[\u001b[38;5;241m1\u001b[39m])\n\u001b[0;32m     50\u001b[0m next_rq \u001b[38;5;241m=\u001b[39m \u001b[38;5;28mself\u001b[39m\u001b[38;5;241m.\u001b[39mrequest_stream\u001b[38;5;241m.\u001b[39mget_next_req()\n",
      "File \u001b[1;32mc:\\Users\\lawso\\OneDrive\\Documents\\school\\SPRING 2024\\C S 394R\\project\\page.py:33\u001b[0m, in \u001b[0;36mPage.free\u001b[1;34m(self, address)\u001b[0m\n\u001b[0;32m     31\u001b[0m \u001b[38;5;28;01mdef\u001b[39;00m \u001b[38;5;21mfree\u001b[39m(\u001b[38;5;28mself\u001b[39m, address):\n\u001b[1;32m---> 33\u001b[0m     \u001b[38;5;28;01massert\u001b[39;00m address \u001b[38;5;129;01min\u001b[39;00m \u001b[38;5;28mself\u001b[39m\u001b[38;5;241m.\u001b[39mallocated_list , \u001b[38;5;124mf\u001b[39m\u001b[38;5;124m\"\u001b[39m\u001b[38;5;124mAddress \u001b[39m\u001b[38;5;132;01m{\u001b[39;00maddress\u001b[38;5;132;01m}\u001b[39;00m\u001b[38;5;124m was never allocated!\u001b[39m\u001b[38;5;124m\"\u001b[39m\n\u001b[0;32m     34\u001b[0m     amt_to_free \u001b[38;5;241m=\u001b[39m \u001b[38;5;28mself\u001b[39m\u001b[38;5;241m.\u001b[39mallocated_list[address]\n\u001b[0;32m     35\u001b[0m     \u001b[38;5;28;01mdel\u001b[39;00m \u001b[38;5;28mself\u001b[39m\u001b[38;5;241m.\u001b[39mallocated_list[address]\n",
      "\u001b[1;31mAssertionError\u001b[0m: Address 4 was never allocated!"
     ]
    }
   ],
   "source": [
    "allocator = FirstFitAllocator()\n",
    "r = -1\n",
    "while not done:\n",
    "    #ac is mem_addr_or_amt\n",
    "    curr_page = s[\"pages\"][0]\n",
    "    print(print(\"Current page's free list: \", page.free_list, \"Current page's allocated list: \", page.allocated_list))\n",
    "    if s[\"rq\"][0] == 0:\n",
    "        ac = s[\"rq\"][1]\n",
    "    else:\n",
    "        ac = allocator.handle_alloc_req(s[\"pages\"], s[\"rq\"][1])[1]\n",
    "\n",
    "    s,r,done = env.step([s[\"rq\"][0], ac])\n",
    "    print(\"----------------------------------\")\n",
    "\n",
    "        "
   ]
  }
 ],
 "metadata": {
  "kernelspec": {
   "display_name": "Python 3",
   "language": "python",
   "name": "python3"
  },
  "language_info": {
   "codemirror_mode": {
    "name": "ipython",
    "version": 3
   },
   "file_extension": ".py",
   "mimetype": "text/x-python",
   "name": "python",
   "nbconvert_exporter": "python",
   "pygments_lexer": "ipython3",
   "version": "3.8.0"
  }
 },
 "nbformat": 4,
 "nbformat_minor": 2
}
