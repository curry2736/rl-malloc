{
 "cells": [
  {
   "cell_type": "code",
   "execution_count": 1,
   "metadata": {},
   "outputs": [],
   "source": [
    "from sb_value_function_kwargs import fc_policy_kwargs, cnn_policy_kwargs, linear_policy_kwargs\n",
    "from environments.stable_baselines_env import StableBaselineEnv\n",
    "from environments.stable_baselines_env_linear import StableBaselineEnvLinear\n",
    "from environments.stable_baselines_env_linear_history import StableBaselineEnvLinearHistory\n",
    "from environments.stable_baselines_env_history import StableBaselineEnvHistory\n",
    "from stable_baselines3 import DQN, PPO\n",
    "from stable_baselines3.common.env_checker import check_env\n",
    "import numpy as np\n",
    "import matplotlib.pyplot as plt\n",
    "from tqdm import tqdm\n",
    "from scipy import stats"
   ]
  },
  {
   "cell_type": "markdown",
   "metadata": {},
   "source": [
    "Experiments 2 and 3"
   ]
  },
  {
   "cell_type": "code",
   "execution_count": 2,
   "metadata": {},
   "outputs": [
    {
     "name": "stdout",
     "output_type": "stream",
     "text": [
      "<class 'request_streams.mixed_ff_bad_wf_good.MixedFFBadWFGood'>\n",
      "Using cuda device\n",
      "Wrapping the env with a `Monitor` wrapper\n",
      "Wrapping the env in a DummyVecEnv.\n",
      "Box(0, 256, (1, 267), int32)\n",
      "{'policy_class': <class 'stable_baselines3.dqn.policies.DQNPolicy'>, 'device': device(type='cuda'), 'verbose': 1, 'policy_kwargs': {'activation_fn': <class 'torch.nn.modules.activation.ReLU'>, 'net_arch': [32, 32]}, 'num_timesteps': 0, '_total_timesteps': 0, '_num_timesteps_at_start': 0, 'seed': None, 'action_noise': None, 'start_time': 0.0, 'learning_rate': 0.0001, 'tensorboard_log': None, '_last_obs': None, '_last_episode_starts': None, '_last_original_obs': None, '_episode_num': 0, 'use_sde': False, 'sde_sample_freq': -1, '_current_progress_remaining': 1.0, '_stats_window_size': 100, 'ep_info_buffer': None, 'ep_success_buffer': None, '_n_updates': 0, '_custom_logger': False, 'env': <stable_baselines3.common.vec_env.dummy_vec_env.DummyVecEnv object at 0x000001C9E9897790>, '_vec_normalize_env': None, 'observation_space': Box(0, 256, (1, 267), int32), 'action_space': Discrete(3), 'n_envs': 1, 'buffer_size': 1000000, 'batch_size': 32, 'learning_starts': 100, 'tau': 1.0, 'gamma': 1, 'gradient_steps': 1, 'optimize_memory_usage': False, 'replay_buffer': <stable_baselines3.common.buffers.ReplayBuffer object at 0x000001C9E9897730>, 'replay_buffer_class': <class 'stable_baselines3.common.buffers.ReplayBuffer'>, 'replay_buffer_kwargs': {}, '_episode_storage': None, 'train_freq': TrainFreq(frequency=4, unit=<TrainFrequencyUnit.STEP: 'step'>), 'use_sde_at_warmup': False, 'exploration_initial_eps': 1.0, 'exploration_final_eps': 0.05, 'exploration_fraction': 0.1, 'target_update_interval': 10000, '_n_calls': 0, 'max_grad_norm': 10, 'exploration_rate': 0.0, 'lr_schedule': <function get_schedule_fn.<locals>.<lambda> at 0x000001C9AE929430>, 'policy': DQNPolicy(\n",
      "  (q_net): QNetwork(\n",
      "    (features_extractor): FlattenExtractor(\n",
      "      (flatten): Flatten(start_dim=1, end_dim=-1)\n",
      "    )\n",
      "    (q_net): Sequential(\n",
      "      (0): Linear(in_features=267, out_features=32, bias=True)\n",
      "      (1): ReLU()\n",
      "      (2): Linear(in_features=32, out_features=32, bias=True)\n",
      "      (3): ReLU()\n",
      "      (4): Linear(in_features=32, out_features=3, bias=True)\n",
      "    )\n",
      "  )\n",
      "  (q_net_target): QNetwork(\n",
      "    (features_extractor): FlattenExtractor(\n",
      "      (flatten): Flatten(start_dim=1, end_dim=-1)\n",
      "    )\n",
      "    (q_net): Sequential(\n",
      "      (0): Linear(in_features=267, out_features=32, bias=True)\n",
      "      (1): ReLU()\n",
      "      (2): Linear(in_features=32, out_features=32, bias=True)\n",
      "      (3): ReLU()\n",
      "      (4): Linear(in_features=32, out_features=3, bias=True)\n",
      "    )\n",
      "  )\n",
      "), 'q_net': QNetwork(\n",
      "  (features_extractor): FlattenExtractor(\n",
      "    (flatten): Flatten(start_dim=1, end_dim=-1)\n",
      "  )\n",
      "  (q_net): Sequential(\n",
      "    (0): Linear(in_features=267, out_features=32, bias=True)\n",
      "    (1): ReLU()\n",
      "    (2): Linear(in_features=32, out_features=32, bias=True)\n",
      "    (3): ReLU()\n",
      "    (4): Linear(in_features=32, out_features=3, bias=True)\n",
      "  )\n",
      "), 'q_net_target': QNetwork(\n",
      "  (features_extractor): FlattenExtractor(\n",
      "    (flatten): Flatten(start_dim=1, end_dim=-1)\n",
      "  )\n",
      "  (q_net): Sequential(\n",
      "    (0): Linear(in_features=267, out_features=32, bias=True)\n",
      "    (1): ReLU()\n",
      "    (2): Linear(in_features=32, out_features=32, bias=True)\n",
      "    (3): ReLU()\n",
      "    (4): Linear(in_features=32, out_features=3, bias=True)\n",
      "  )\n",
      "), 'batch_norm_stats': [], 'batch_norm_stats_target': [], 'exploration_schedule': <function get_linear_fn.<locals>.func at 0x000001C9E9893820>}\n"
     ]
    }
   ],
   "source": [
    "\n",
    "#Note ff_bad is the same as bf_good\n",
    "\n",
    "\n",
    "\n",
    "# #experiment 2 graph a\n",
    "# policy_kwargs = fc_policy_kwargs\n",
    "# history_len = 0\n",
    "# allocator_name = \"wf_good\"\n",
    "# net_name = \"fc\"\n",
    "# env = StableBaselineEnvHistory(allocator=allocator_name, page_size=256, history_len=history_len)\n",
    "# model = DQN(\"MlpPolicy\", env, verbose=1, policy_kwargs=policy_kwargs, learning_rate=0.0001, device=\"cuda\", gamma=1)\n",
    "\n",
    "# #experiment 2 graph b \n",
    "# policy_kwargs = linear_policy_kwargs\n",
    "# history_len = 0\n",
    "# allocator_name = \"wf_good\"\n",
    "# net_name = \"linear\"\n",
    "# env = StableBaselineEnvLinearHistory(allocator=allocator_name, page_size=256, history_len=history_len)\n",
    "# model = DQN(\"MlpPolicy\", env, verbose=1, policy_kwargs=policy_kwargs, learning_rate=0.0001, device=\"cuda\", gamma=1)\n",
    "\n",
    "\n",
    "#Note ff_bad is the same as bf_good\n",
    "\n",
    "#experiment 2 graph c\n",
    "# policy_kwargs = fc_policy_kwargs\n",
    "# history_len = 0\n",
    "# allocator_name = \"ff_bad\"\n",
    "# net_name = \"fc\"\n",
    "# env = StableBaselineEnvHistory(allocator=allocator_name, page_size=256, history_len=history_len)\n",
    "# model = DQN(\"MlpPolicy\", env, verbose=1, policy_kwargs=policy_kwargs, learning_rate=0.0001, device=\"cuda\", gamma=1)\n",
    "\n",
    "# #experiment 2 graph d\n",
    "\n",
    "# policy_kwargs = linear_policy_kwargs\n",
    "# history_len = 0\n",
    "# allocator_name = \"ff_bad\"\n",
    "# net_name = \"linear\"\n",
    "# env = StableBaselineEnvLinearHistory(allocator=allocator_name, page_size=256, history_len=history_len)\n",
    "# model = DQN(\"MlpPolicy\", env, verbose=1, policy_kwargs=policy_kwargs, learning_rate=0.0001, device=\"cuda\", gamma=1)\n",
    "\n",
    "\n",
    "\n",
    "\n",
    "# #experiment 3 graph a\n",
    "policy_kwargs = fc_policy_kwargs\n",
    "history_len = 10\n",
    "allocator_name = \"mixed_ff_bad_wf_good\"\n",
    "net_name = \"fc\"\n",
    "env = StableBaselineEnvHistory(allocator=allocator_name, page_size=256, history_len=history_len)\n",
    "model = DQN(\"MlpPolicy\", env, verbose=1, policy_kwargs=policy_kwargs, learning_rate=0.0001, device=\"cuda\", gamma=1)\n",
    "\n",
    "# # experiment 3 graph b\n",
    "\n",
    "# policy_kwargs = linear_policy_kwargs\n",
    "# history_len = 10\n",
    "# allocator_name = \"mixed_ff_bad_wf_good\"\n",
    "# net_name = \"linear\"\n",
    "# env = StableBaselineEnvLinearHistory(allocator=allocator_name, page_size=256, history_len=history_len)\n",
    "# model = DQN(\"MlpPolicy\", env, verbose=1, policy_kwargs=policy_kwargs, learning_rate=0.0001, device=\"cuda\", gamma=1)\n",
    "\n",
    "\n",
    "#model attributes\n",
    "print(env.observation_space)\n",
    "print(model.__dict__)"
   ]
  },
  {
   "cell_type": "code",
   "execution_count": 3,
   "metadata": {},
   "outputs": [],
   "source": [
    "def mean_confidence_interval(data, confidence=0.95):\n",
    "    n = data.shape[0]\n",
    "    mean, std_err = np.mean(data), np.std(data) / np.sqrt(n)\n",
    "    interval = std_err * stats.t.ppf((1 + confidence) / 2, n - 1)\n",
    "    return mean - interval, mean + interval, mean"
   ]
  },
  {
   "cell_type": "markdown",
   "metadata": {},
   "source": [
    "Training & Rollout of policy"
   ]
  },
  {
   "cell_type": "code",
   "execution_count": 4,
   "metadata": {},
   "outputs": [
    {
     "data": {
      "application/vnd.jupyter.widget-view+json": {
       "model_id": "63a3b5640c114bdcad912b14fbc315c0",
       "version_major": 2,
       "version_minor": 0
      },
      "text/plain": [
       "Output()"
      ]
     },
     "metadata": {},
     "output_type": "display_data"
    },
    {
     "name": "stdout",
     "output_type": "stream",
     "text": [
      "Using cuda device\n",
      "Wrapping the env with a `Monitor` wrapper\n",
      "Wrapping the env in a DummyVecEnv.\n"
     ]
    },
    {
     "name": "stderr",
     "output_type": "stream",
     "text": [
      "c:\\Users\\lawso\\AppData\\Local\\Programs\\Python\\Python38\\lib\\site-packages\\stable_baselines3\\common\\buffers.py:241: UserWarning: This system does not have apparently enough memory to store the complete replay buffer 2.15GB > 1.97GB\n",
      "  warnings.warn(\n"
     ]
    },
    {
     "data": {
      "text/html": [
       "<pre style=\"white-space:pre;overflow-x:auto;line-height:normal;font-family:Menlo,'DejaVu Sans Mono',consolas,'Courier New',monospace\"></pre>\n"
      ],
      "text/plain": []
     },
     "metadata": {},
     "output_type": "display_data"
    },
    {
     "data": {
      "text/html": [
       "<pre style=\"white-space:pre;overflow-x:auto;line-height:normal;font-family:Menlo,'DejaVu Sans Mono',consolas,'Courier New',monospace\">\n",
       "</pre>\n"
      ],
      "text/plain": [
       "\n"
      ]
     },
     "metadata": {},
     "output_type": "display_data"
    },
    {
     "name": "stderr",
     "output_type": "stream",
     "text": [
      " 99%|█████████▉| 99/100 [00:19<00:00,  5.04it/s]"
     ]
    },
    {
     "data": {
      "application/vnd.jupyter.widget-view+json": {
       "model_id": "2608a520e4bc483194f53c264278cbf0",
       "version_major": 2,
       "version_minor": 0
      },
      "text/plain": [
       "Output()"
      ]
     },
     "metadata": {},
     "output_type": "display_data"
    },
    {
     "name": "stderr",
     "output_type": "stream",
     "text": [
      "c:\\Users\\lawso\\AppData\\Local\\Programs\\Python\\Python38\\lib\\site-packages\\stable_baselines3\\common\\buffers.py:241: UserWarning: This system does not have apparently enough memory to store the complete replay buffer 2.15GB > 1.20GB\n",
      "  warnings.warn(\n"
     ]
    },
    {
     "name": "stdout",
     "output_type": "stream",
     "text": [
      "20.63200000000005\n",
      "Using cuda device\n",
      "Wrapping the env with a `Monitor` wrapper\n",
      "Wrapping the env in a DummyVecEnv.\n"
     ]
    },
    {
     "data": {
      "text/html": [
       "<pre style=\"white-space:pre;overflow-x:auto;line-height:normal;font-family:Menlo,'DejaVu Sans Mono',consolas,'Courier New',monospace\"></pre>\n"
      ],
      "text/plain": []
     },
     "metadata": {},
     "output_type": "display_data"
    },
    {
     "data": {
      "text/html": [
       "<pre style=\"white-space:pre;overflow-x:auto;line-height:normal;font-family:Menlo,'DejaVu Sans Mono',consolas,'Courier New',monospace\">\n",
       "</pre>\n"
      ],
      "text/plain": [
       "\n"
      ]
     },
     "metadata": {},
     "output_type": "display_data"
    },
    {
     "name": "stderr",
     "output_type": "stream",
     "text": [
      "100%|██████████| 100/100 [02:24<00:00,  1.45s/it]\n"
     ]
    },
    {
     "data": {
      "application/vnd.jupyter.widget-view+json": {
       "model_id": "4828fe19ec874a3fac0e1eeb0fe8fd3b",
       "version_major": 2,
       "version_minor": 0
      },
      "text/plain": [
       "Output()"
      ]
     },
     "metadata": {},
     "output_type": "display_data"
    },
    {
     "name": "stderr",
     "output_type": "stream",
     "text": [
      "c:\\Users\\lawso\\AppData\\Local\\Programs\\Python\\Python38\\lib\\site-packages\\stable_baselines3\\common\\buffers.py:241: UserWarning: This system does not have apparently enough memory to store the complete replay buffer 2.15GB > 0.96GB\n",
      "  warnings.warn(\n"
     ]
    },
    {
     "name": "stdout",
     "output_type": "stream",
     "text": [
      "20.387000000000043\n",
      "Using cuda device\n",
      "Wrapping the env with a `Monitor` wrapper\n",
      "Wrapping the env in a DummyVecEnv.\n"
     ]
    },
    {
     "data": {
      "text/html": [
       "<pre style=\"white-space:pre;overflow-x:auto;line-height:normal;font-family:Menlo,'DejaVu Sans Mono',consolas,'Courier New',monospace\"></pre>\n"
      ],
      "text/plain": []
     },
     "metadata": {},
     "output_type": "display_data"
    },
    {
     "data": {
      "text/html": [
       "<pre style=\"white-space:pre;overflow-x:auto;line-height:normal;font-family:Menlo,'DejaVu Sans Mono',consolas,'Courier New',monospace\">\n",
       "</pre>\n"
      ],
      "text/plain": [
       "\n"
      ]
     },
     "metadata": {},
     "output_type": "display_data"
    },
    {
     "name": "stderr",
     "output_type": "stream",
     "text": [
      "100%|██████████| 100/100 [03:29<00:00,  2.09s/it]\n",
      "100%|██████████| 100/100 [00:29<00:00,  2.65it/s]"
     ]
    },
    {
     "data": {
      "application/vnd.jupyter.widget-view+json": {
       "model_id": "f0d5eed693e4478a8947b3baf4fe8b8f",
       "version_major": 2,
       "version_minor": 0
      },
      "text/plain": [
       "Output()"
      ]
     },
     "metadata": {},
     "output_type": "display_data"
    },
    {
     "name": "stdout",
     "output_type": "stream",
     "text": [
      "19.30300000000005\n",
      "Using cuda device\n",
      "Wrapping the env with a `Monitor` wrapper\n",
      "Wrapping the env in a DummyVecEnv.\n"
     ]
    },
    {
     "data": {
      "text/html": [
       "<pre style=\"white-space:pre;overflow-x:auto;line-height:normal;font-family:Menlo,'DejaVu Sans Mono',consolas,'Courier New',monospace\"></pre>\n"
      ],
      "text/plain": []
     },
     "metadata": {},
     "output_type": "display_data"
    },
    {
     "data": {
      "text/html": [
       "<pre style=\"white-space:pre;overflow-x:auto;line-height:normal;font-family:Menlo,'DejaVu Sans Mono',consolas,'Courier New',monospace\">\n",
       "</pre>\n"
      ],
      "text/plain": [
       "\n"
      ]
     },
     "metadata": {},
     "output_type": "display_data"
    },
    {
     "name": "stderr",
     "output_type": "stream",
     "text": [
      "100%|██████████| 100/100 [02:59<00:00,  1.79s/it]\n"
     ]
    },
    {
     "data": {
      "application/vnd.jupyter.widget-view+json": {
       "model_id": "fda5a5c083494da1a85e9c639426df39",
       "version_major": 2,
       "version_minor": 0
      },
      "text/plain": [
       "Output()"
      ]
     },
     "metadata": {},
     "output_type": "display_data"
    },
    {
     "name": "stdout",
     "output_type": "stream",
     "text": [
      "19.009000000000057\n",
      "Using cuda device\n",
      "Wrapping the env with a `Monitor` wrapper\n",
      "Wrapping the env in a DummyVecEnv.\n"
     ]
    },
    {
     "data": {
      "text/html": [
       "<pre style=\"white-space:pre;overflow-x:auto;line-height:normal;font-family:Menlo,'DejaVu Sans Mono',consolas,'Courier New',monospace\"></pre>\n"
      ],
      "text/plain": []
     },
     "metadata": {},
     "output_type": "display_data"
    },
    {
     "data": {
      "text/html": [
       "<pre style=\"white-space:pre;overflow-x:auto;line-height:normal;font-family:Menlo,'DejaVu Sans Mono',consolas,'Courier New',monospace\">\n",
       "</pre>\n"
      ],
      "text/plain": [
       "\n"
      ]
     },
     "metadata": {},
     "output_type": "display_data"
    },
    {
     "name": "stderr",
     "output_type": "stream",
     "text": [
      "100%|██████████| 100/100 [02:37<00:00,  1.57s/it]\n",
      "100%|██████████| 100/100 [00:27<00:00,  5.44it/s]"
     ]
    },
    {
     "name": "stdout",
     "output_type": "stream",
     "text": [
      "20.410000000000043\n",
      "Model confidence interval: [19.12987526 20.76652474 19.9482    ]\n"
     ]
    },
    {
     "data": {
      "text/plain": [
       "([<matplotlib.axis.XTick at 0x1ca50aeaf70>,\n",
       "  <matplotlib.axis.XTick at 0x1ca50aeaf40>,\n",
       "  <matplotlib.axis.XTick at 0x1ca50aeaa30>],\n",
       " [Text(0, 0, 'best fit'), Text(1, 0, 'worst fit'), Text(2, 0, 'first fit')])"
      ]
     },
     "execution_count": 4,
     "metadata": {},
     "output_type": "execute_result"
    },
    {
     "data": {
      "image/png": "[encoded data removed]",
      "text/plain": [
       "<Figure size 640x480 with 1 Axes>"
      ]
     },
     "metadata": {},
     "output_type": "display_data"
    }
   ],
   "source": [
    "avg_return_per_session = []\n",
    "action_counts_per_session = []\n",
    "training_steps = 50000\n",
    "for train_and_rollout in range(5):\n",
    "    model = DQN(\"MlpPolicy\", env, verbose=1, policy_kwargs=policy_kwargs, learning_rate=0.0001, device=\"cuda\", gamma=1)\n",
    "    model.learn(total_timesteps=training_steps, log_interval=training_steps, progress_bar=True)\n",
    "    num_actions = 3\n",
    "    obs, info = env.reset()\n",
    "    i = 0\n",
    "    rewards = []\n",
    "    curr_reward = 0\n",
    "    action_counts = [0] * num_actions\n",
    "    total=100\n",
    "    pbar = tqdm(total = total)\n",
    "    while i < total:\n",
    "        action, _states = model.predict(obs, deterministic=True)\n",
    "        action_counts[action] += 1\n",
    "        #print(action)\n",
    "        obs, reward, terminated, truncated, info = env.step(action)\n",
    "        if reward != .1 and reward != 0:\n",
    "            print(reward)\n",
    "        #print(reward != 1)\n",
    "        curr_reward += reward\n",
    "        if terminated or truncated:\n",
    "            pbar.update(1)\n",
    "            obs, info = env.reset()\n",
    "            i += 1\n",
    "            rewards.append(curr_reward)\n",
    "            curr_reward = 0\n",
    "\n",
    "    print(np.mean(rewards))\n",
    "    avg_return_per_session.append(np.mean(rewards))\n",
    "    action_counts_per_session.append(action_counts)\n",
    "\n",
    "model_conf_int = mean_confidence_interval(np.array(avg_return_per_session))\n",
    "model_conf_int = np.array(model_conf_int)\n",
    "\n",
    "print(f\"Model confidence interval: {model_conf_int}\")\n",
    "\n",
    "action_counts_per_session = np.array(action_counts_per_session)\n",
    "action_counts_per_session = np.sum(action_counts_per_session, axis=0)\n",
    "action_counts_per_session = action_counts_per_session / np.sum(action_counts_per_session)\n",
    "\n",
    "plt.bar(np.arange(3), action_counts_per_session)\n",
    "plt.title(f\"High-level action frequences of using {net_name} network and history len {history_len} on {allocator_name} allocator\")\n",
    "plt.xticks(np.arange(3), [\"best fit\", \"worst fit\", \"first fit\"])"
   ]
  },
  {
   "cell_type": "markdown",
   "metadata": {},
   "source": [
    "Baselines (best fit, worst fit, first fit)"
   ]
  },
  {
   "cell_type": "code",
   "execution_count": 5,
   "metadata": {},
   "outputs": [
    {
     "name": "stderr",
     "output_type": "stream",
     "text": [
      "100%|██████████| 3/3 [00:02<00:00,  1.02it/s]"
     ]
    },
    {
     "name": "stdout",
     "output_type": "stream",
     "text": [
      "[(4.373565959132608, 8.154434040867418, 6.264000000000013), (4.672393394244692, 8.24560660575533, 6.459000000000011), (0.9139149527580862, 1.1280850472419142, 1.0210000000000001)]\n"
     ]
    },
    {
     "name": "stderr",
     "output_type": "stream",
     "text": [
      "\n"
     ]
    }
   ],
   "source": [
    "conf_ints_baselines = []\n",
    "for allocator in tqdm(range(3)):\n",
    "    obs, info = env.reset()\n",
    "    i = 0\n",
    "    rewards = []\n",
    "    curr_reward = 0\n",
    "    while i < 100:\n",
    "        #action, _states = model.predict(obs, deterministic=True)\n",
    "        #print(action)\n",
    "        obs, reward, terminated, truncated, info = env.step(allocator)\n",
    "        if reward != .1 and reward != 0:\n",
    "            print(reward)\n",
    "        #print(reward != 1)\n",
    "        curr_reward += reward\n",
    "        if terminated or truncated:\n",
    "            obs, info = env.reset()\n",
    "            i += 1\n",
    "            rewards.append(curr_reward)\n",
    "            curr_reward = 0\n",
    "\n",
    "    #print(allocator, mean_confidence_interval(np.array(rewards)))\n",
    "\n",
    "    conf_ints_baselines.append(mean_confidence_interval(np.array(rewards)))\n",
    "\n",
    "print(conf_ints_baselines)\n",
    "conf_ints_baselines = np.array(conf_ints_baselines)\n",
    "    "
   ]
  },
  {
   "cell_type": "code",
   "execution_count": 6,
   "metadata": {},
   "outputs": [
    {
     "data": {
      "image/png": "[encoded data removed]",
      "text/plain": [
       "<Figure size 640x480 with 1 Axes>"
      ]
     },
     "metadata": {},
     "output_type": "display_data"
    }
   ],
   "source": [
    "#create a bar graph with the confidence intervals\n",
    "import os\n",
    "all_conf_ints = np.vstack((model_conf_int, conf_ints_baselines))\n",
    "\n",
    "plt.bar(x=np.arange(4), height=all_conf_ints[:,2], yerr=all_conf_ints[:, 2] - all_conf_ints[:, 0])\n",
    "plt.title(f\"Average return over 100 episodes for \\\"{allocator_name}\\\" alloc sequences \\n with 95% confidence intervals, using {net_name} network and history len {history_len} \\n {training_steps} training steps\")\n",
    "plt.xticks(np.arange(4), [\"our policy\", \"best fit\", \"worst fit\", \"first fit\"])\n",
    "\n",
    "out_dir = f\"results/{allocator_name}\"\n",
    "os.makedirs(out_dir, exist_ok=True)\n",
    "plt.ylim(top=max(all_conf_ints[:,1]) + 5)\n",
    "plt.savefig(os.path.join(out_dir, f\"{allocator_name}_{net_name}_{history_len}_{training_steps}.png\"), bbox_inches = \"tight\")\n",
    "np.savetxt(os.path.join(out_dir, f\"{allocator_name}_{net_name}_{history_len}_{training_steps}.txt\"), all_conf_ints) #in order of model, best fit, worst fit, first fit"
   ]
  }
 ],
 "metadata": {
  "kernelspec": {
   "display_name": "Python 3",
   "language": "python",
   "name": "python3"
  },
  "language_info": {
   "codemirror_mode": {
    "name": "ipython",
    "version": 3
   },
   "file_extension": ".py",
   "mimetype": "text/x-python",
   "name": "python",
   "nbconvert_exporter": "python",
   "pygments_lexer": "ipython3",
   "version": "3.8.17"
  }
 },
 "nbformat": 4,
 "nbformat_minor": 2
}
