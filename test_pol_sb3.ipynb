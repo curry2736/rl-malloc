{
 "cells": [
  {
   "cell_type": "code",
   "execution_count": 1,
   "metadata": {},
   "outputs": [],
   "source": [
    "from sb_value_function_kwargs import fc_policy_kwargs, cnn_policy_kwargs, linear_policy_kwargs\n",
    "from environments.stable_baselines_env import StableBaselineEnv\n",
    "from environments.stable_baselines_env_linear import StableBaselineEnvLinear\n",
    "from environments.stable_baselines_env_linear_history import StableBaselineEnvLinearHistory\n",
    "from environments.stable_baselines_env_history import StableBaselineEnvHistory\n",
    "from stable_baselines3 import DQN, PPO\n",
    "from stable_baselines3.common.env_checker import check_env\n",
    "import numpy as np\n",
    "import matplotlib.pyplot as plt\n",
    "from tqdm import tqdm\n",
    "from scipy import stats"
   ]
  },
  {
   "cell_type": "markdown",
   "metadata": {},
   "source": [
    "Experiments 2 and 3"
   ]
  },
  {
   "cell_type": "code",
   "execution_count": 2,
   "metadata": {},
   "outputs": [
    {
     "name": "stdout",
     "output_type": "stream",
     "text": [
      "<class 'request_streams.mixed_ff_bad_wf_good.MixedFFBadWFGood'>\n",
      "Using cuda device\n",
      "Wrapping the env with a `Monitor` wrapper\n",
      "Wrapping the env in a DummyVecEnv.\n",
      "Box(0.0, 257.0, (1, 10), float32)\n",
      "{'policy_class': <class 'stable_baselines3.dqn.policies.DQNPolicy'>, 'device': device(type='cuda'), 'verbose': 1, 'policy_kwargs': {'net_arch': []}, 'num_timesteps': 0, '_total_timesteps': 0, '_num_timesteps_at_start': 0, 'seed': None, 'action_noise': None, 'start_time': 0.0, 'learning_rate': 0.0001, 'tensorboard_log': None, '_last_obs': None, '_last_episode_starts': None, '_last_original_obs': None, '_episode_num': 0, 'use_sde': False, 'sde_sample_freq': -1, '_current_progress_remaining': 1.0, '_stats_window_size': 100, 'ep_info_buffer': None, 'ep_success_buffer': None, '_n_updates': 0, '_custom_logger': False, 'env': <stable_baselines3.common.vec_env.dummy_vec_env.DummyVecEnv object at 0x000001F99978E730>, '_vec_normalize_env': None, 'observation_space': Box(0.0, 257.0, (1, 10), float32), 'action_space': Discrete(3), 'n_envs': 1, 'buffer_size': 1000000, 'batch_size': 32, 'learning_starts': 100, 'tau': 1.0, 'gamma': 1, 'gradient_steps': 1, 'optimize_memory_usage': False, 'replay_buffer': <stable_baselines3.common.buffers.ReplayBuffer object at 0x000001F9D4733670>, 'replay_buffer_class': <class 'stable_baselines3.common.buffers.ReplayBuffer'>, 'replay_buffer_kwargs': {}, '_episode_storage': None, 'train_freq': TrainFreq(frequency=4, unit=<TrainFrequencyUnit.STEP: 'step'>), 'use_sde_at_warmup': False, 'exploration_initial_eps': 1.0, 'exploration_final_eps': 0.05, 'exploration_fraction': 0.1, 'target_update_interval': 10000, '_n_calls': 0, 'max_grad_norm': 10, 'exploration_rate': 0.0, 'lr_schedule': <function get_schedule_fn.<locals>.<lambda> at 0x000001F9997A0E50>, 'policy': DQNPolicy(\n",
      "  (q_net): QNetwork(\n",
      "    (features_extractor): FlattenExtractor(\n",
      "      (flatten): Flatten(start_dim=1, end_dim=-1)\n",
      "    )\n",
      "    (q_net): Sequential(\n",
      "      (0): Linear(in_features=10, out_features=3, bias=True)\n",
      "    )\n",
      "  )\n",
      "  (q_net_target): QNetwork(\n",
      "    (features_extractor): FlattenExtractor(\n",
      "      (flatten): Flatten(start_dim=1, end_dim=-1)\n",
      "    )\n",
      "    (q_net): Sequential(\n",
      "      (0): Linear(in_features=10, out_features=3, bias=True)\n",
      "    )\n",
      "  )\n",
      "), 'q_net': QNetwork(\n",
      "  (features_extractor): FlattenExtractor(\n",
      "    (flatten): Flatten(start_dim=1, end_dim=-1)\n",
      "  )\n",
      "  (q_net): Sequential(\n",
      "    (0): Linear(in_features=10, out_features=3, bias=True)\n",
      "  )\n",
      "), 'q_net_target': QNetwork(\n",
      "  (features_extractor): FlattenExtractor(\n",
      "    (flatten): Flatten(start_dim=1, end_dim=-1)\n",
      "  )\n",
      "  (q_net): Sequential(\n",
      "    (0): Linear(in_features=10, out_features=3, bias=True)\n",
      "  )\n",
      "), 'batch_norm_stats': [], 'batch_norm_stats_target': [], 'exploration_schedule': <function get_linear_fn.<locals>.func at 0x000001F9D47328B0>}\n"
     ]
    }
   ],
   "source": [
    "\n",
    "\n",
    "\n",
    "\n",
    "# #experiment 2 graph a\n",
    "# policy_kwargs = fc_policy_kwargs\n",
    "# history_len = 0\n",
    "# allocator_name = \"wf_good\"\n",
    "# net_name = \"fc\"\n",
    "# env = StableBaselineEnvHistory(allocator=allocator_name, page_size=256, history_len=history_len)\n",
    "# model = DQN(\"MlpPolicy\", env, verbose=1, policy_kwargs=policy_kwargs, learning_rate=0.0001, device=\"cuda\", gamma=1)\n",
    "\n",
    "# #experiment 2 graph b \n",
    "# policy_kwargs = linear_policy_kwargs\n",
    "# history_len = 0\n",
    "# allocator_name = \"wf_good\"\n",
    "# net_name = \"linear\"\n",
    "# env = StableBaselineEnvLinearHistory(allocator=allocator_name, page_size=256, history_len=history_len)\n",
    "# model = DQN(\"MlpPolicy\", env, verbose=1, policy_kwargs=policy_kwargs, learning_rate=0.0001, device=\"cuda\", gamma=1)\n",
    "\n",
    "\n",
    "#Note ff_bad is the same as bf_good\n",
    "\n",
    "#experiment 2 graph c\n",
    "# policy_kwargs = fc_policy_kwargs\n",
    "# history_len = 0\n",
    "# allocator_name = \"ff_bad\"\n",
    "# net_name = \"fc\"\n",
    "# env = StableBaselineEnvHistory(allocator=allocator_name, page_size=256, history_len=history_len)\n",
    "# model = DQN(\"MlpPolicy\", env, verbose=1, policy_kwargs=policy_kwargs, learning_rate=0.0001, device=\"cuda\", gamma=1)\n",
    "\n",
    "# #experiment 2 graph d\n",
    "\n",
    "# policy_kwargs = linear_policy_kwargs\n",
    "# history_len = 0\n",
    "# allocator_name = \"ff_bad\"\n",
    "# net_name = \"linear\"\n",
    "# env = StableBaselineEnvLinearHistory(allocator=allocator_name, page_size=256, history_len=history_len)\n",
    "# model = DQN(\"MlpPolicy\", env, verbose=1, policy_kwargs=policy_kwargs, learning_rate=0.0001, device=\"cuda\", gamma=1)\n",
    "\n",
    "\n",
    "\n",
    "\n",
    "# #experiment 3 graph a\n",
    "policy_kwargs = fc_policy_kwargs\n",
    "history_len = 10\n",
    "allocator_name = \"mixed_ff_bad_wf_good\"\n",
    "net_name = \"fc\"\n",
    "env = StableBaselineEnvHistory(allocator=allocator_name, page_size=256, history_len=history_len)\n",
    "model = DQN(\"MlpPolicy\", env, verbose=1, policy_kwargs=policy_kwargs, learning_rate=0.0001, device=\"cuda\", gamma=1)\n",
    "\n",
    "# # experiment 3 graph b\n",
    "\n",
    "# policy_kwargs = linear_policy_kwargs\n",
    "# history_len = 10\n",
    "# allocator_name = \"mixed_ff_bad_wf_good\"\n",
    "# net_name = \"linear\"\n",
    "# env = StableBaselineEnvLinearHistory(allocator=allocator_name, page_size=256, history_len=history_len)\n",
    "# model = DQN(\"MlpPolicy\", env, verbose=1, policy_kwargs=policy_kwargs, learning_rate=0.0001, device=\"cuda\", gamma=1)\n",
    "\n",
    "\n",
    "#model attributes\n",
    "print(env.observation_space)\n",
    "print(model.__dict__)"
   ]
  },
  {
   "cell_type": "code",
   "execution_count": 3,
   "metadata": {},
   "outputs": [],
   "source": [
    "def mean_confidence_interval(data, confidence=0.95):\n",
    "    n = data.shape[0]\n",
    "    mean, std_err = np.mean(data), np.std(data) / np.sqrt(n)\n",
    "    interval = std_err * stats.t.ppf((1 + confidence) / 2, n - 1)\n",
    "    return mean - interval, mean + interval, mean"
   ]
  },
  {
   "cell_type": "markdown",
   "metadata": {},
   "source": [
    "Training & Rollout of policy"
   ]
  },
  {
   "cell_type": "code",
   "execution_count": 4,
   "metadata": {},
   "outputs": [
    {
     "data": {
      "application/vnd.jupyter.widget-view+json": {
       "model_id": "1ded31040cd146319eac5d334c71cea3",
       "version_major": 2,
       "version_minor": 0
      },
      "text/plain": [
       "Output()"
      ]
     },
     "metadata": {},
     "output_type": "display_data"
    },
    {
     "name": "stdout",
     "output_type": "stream",
     "text": [
      "Using cuda device\n",
      "Wrapping the env with a `Monitor` wrapper\n",
      "Wrapping the env in a DummyVecEnv.\n"
     ]
    },
    {
     "data": {
      "text/html": [
       "<pre style=\"white-space:pre;overflow-x:auto;line-height:normal;font-family:Menlo,'DejaVu Sans Mono',consolas,'Courier New',monospace\"></pre>\n"
      ],
      "text/plain": []
     },
     "metadata": {},
     "output_type": "display_data"
    },
    {
     "data": {
      "text/html": [
       "<pre style=\"white-space:pre;overflow-x:auto;line-height:normal;font-family:Menlo,'DejaVu Sans Mono',consolas,'Courier New',monospace\">\n",
       "</pre>\n"
      ],
      "text/plain": [
       "\n"
      ]
     },
     "metadata": {},
     "output_type": "display_data"
    },
    {
     "name": "stderr",
     "output_type": "stream",
     "text": [
      "100%|██████████| 100/100 [00:03<00:00, 24.63it/s]"
     ]
    },
    {
     "data": {
      "application/vnd.jupyter.widget-view+json": {
       "model_id": "453b72a7bf5c41a9b05db10fa486fb76",
       "version_major": 2,
       "version_minor": 0
      },
      "text/plain": [
       "Output()"
      ]
     },
     "metadata": {},
     "output_type": "display_data"
    },
    {
     "name": "stdout",
     "output_type": "stream",
     "text": [
      "4.508000000000009\n",
      "Using cuda device\n",
      "Wrapping the env with a `Monitor` wrapper\n",
      "Wrapping the env in a DummyVecEnv.\n"
     ]
    },
    {
     "name": "stderr",
     "output_type": "stream",
     "text": [
      "100%|██████████| 100/100 [00:19<00:00, 24.63it/s]"
     ]
    },
    {
     "data": {
      "text/html": [
       "<pre style=\"white-space:pre;overflow-x:auto;line-height:normal;font-family:Menlo,'DejaVu Sans Mono',consolas,'Courier New',monospace\"></pre>\n"
      ],
      "text/plain": []
     },
     "metadata": {},
     "output_type": "display_data"
    },
    {
     "data": {
      "text/html": [
       "<pre style=\"white-space:pre;overflow-x:auto;line-height:normal;font-family:Menlo,'DejaVu Sans Mono',consolas,'Courier New',monospace\">\n",
       "</pre>\n"
      ],
      "text/plain": [
       "\n"
      ]
     },
     "metadata": {},
     "output_type": "display_data"
    },
    {
     "name": "stderr",
     "output_type": "stream",
     "text": [
      "100%|██████████| 100/100 [01:29<00:00,  1.11it/s]\n"
     ]
    },
    {
     "data": {
      "application/vnd.jupyter.widget-view+json": {
       "model_id": "45040468831e40c0877312a15dcbb520",
       "version_major": 2,
       "version_minor": 0
      },
      "text/plain": [
       "Output()"
      ]
     },
     "metadata": {},
     "output_type": "display_data"
    },
    {
     "name": "stdout",
     "output_type": "stream",
     "text": [
      "4.281000000000005\n",
      "Using cuda device\n",
      "Wrapping the env with a `Monitor` wrapper\n",
      "Wrapping the env in a DummyVecEnv.\n"
     ]
    },
    {
     "name": "stderr",
     "output_type": "stream",
     "text": []
    },
    {
     "data": {
      "text/html": [
       "<pre style=\"white-space:pre;overflow-x:auto;line-height:normal;font-family:Menlo,'DejaVu Sans Mono',consolas,'Courier New',monospace\"></pre>\n"
      ],
      "text/plain": []
     },
     "metadata": {},
     "output_type": "display_data"
    },
    {
     "data": {
      "text/html": [
       "<pre style=\"white-space:pre;overflow-x:auto;line-height:normal;font-family:Menlo,'DejaVu Sans Mono',consolas,'Courier New',monospace\">\n",
       "</pre>\n"
      ],
      "text/plain": [
       "\n"
      ]
     },
     "metadata": {},
     "output_type": "display_data"
    },
    {
     "name": "stderr",
     "output_type": "stream",
     "text": [
      "100%|██████████| 100/100 [01:22<00:00,  1.21it/s]\n",
      " 91%|█████████ | 91/100 [00:01<00:00, 69.95it/s] "
     ]
    },
    {
     "data": {
      "application/vnd.jupyter.widget-view+json": {
       "model_id": "05c6d24e4f5f4674aef91d631ad259d7",
       "version_major": 2,
       "version_minor": 0
      },
      "text/plain": [
       "Output()"
      ]
     },
     "metadata": {},
     "output_type": "display_data"
    },
    {
     "name": "stdout",
     "output_type": "stream",
     "text": [
      "2.1700000000000004\n",
      "Using cuda device\n",
      "Wrapping the env with a `Monitor` wrapper\n",
      "Wrapping the env in a DummyVecEnv.\n"
     ]
    },
    {
     "name": "stderr",
     "output_type": "stream",
     "text": [
      "100%|██████████| 100/100 [00:17<00:00, 69.95it/s]"
     ]
    },
    {
     "data": {
      "text/html": [
       "<pre style=\"white-space:pre;overflow-x:auto;line-height:normal;font-family:Menlo,'DejaVu Sans Mono',consolas,'Courier New',monospace\"></pre>\n"
      ],
      "text/plain": []
     },
     "metadata": {},
     "output_type": "display_data"
    },
    {
     "data": {
      "text/html": [
       "<pre style=\"white-space:pre;overflow-x:auto;line-height:normal;font-family:Menlo,'DejaVu Sans Mono',consolas,'Courier New',monospace\">\n",
       "</pre>\n"
      ],
      "text/plain": [
       "\n"
      ]
     },
     "metadata": {},
     "output_type": "display_data"
    },
    {
     "name": "stderr",
     "output_type": "stream",
     "text": [
      "100%|██████████| 100/100 [01:12<00:00,  1.39it/s]\n"
     ]
    },
    {
     "data": {
      "application/vnd.jupyter.widget-view+json": {
       "model_id": "747c66b982d54acaa064f2e8f4732905",
       "version_major": 2,
       "version_minor": 0
      },
      "text/plain": [
       "Output()"
      ]
     },
     "metadata": {},
     "output_type": "display_data"
    },
    {
     "name": "stdout",
     "output_type": "stream",
     "text": [
      "10.985000000000035\n",
      "Using cuda device\n",
      "Wrapping the env with a `Monitor` wrapper\n",
      "Wrapping the env in a DummyVecEnv.\n"
     ]
    },
    {
     "name": "stderr",
     "output_type": "stream",
     "text": []
    },
    {
     "data": {
      "text/html": [
       "<pre style=\"white-space:pre;overflow-x:auto;line-height:normal;font-family:Menlo,'DejaVu Sans Mono',consolas,'Courier New',monospace\"></pre>\n"
      ],
      "text/plain": []
     },
     "metadata": {},
     "output_type": "display_data"
    },
    {
     "data": {
      "text/html": [
       "<pre style=\"white-space:pre;overflow-x:auto;line-height:normal;font-family:Menlo,'DejaVu Sans Mono',consolas,'Courier New',monospace\">\n",
       "</pre>\n"
      ],
      "text/plain": [
       "\n"
      ]
     },
     "metadata": {},
     "output_type": "display_data"
    },
    {
     "name": "stderr",
     "output_type": "stream",
     "text": [
      "100%|██████████| 100/100 [01:12<00:00,  1.37it/s]\n",
      " 97%|█████████▋| 97/100 [00:05<00:00, 34.98it/s]"
     ]
    },
    {
     "name": "stdout",
     "output_type": "stream",
     "text": [
      "6.36600000000001\n",
      "Model confidence interval: [1.96764224 9.35635776 5.662     ]\n"
     ]
    },
    {
     "data": {
      "text/plain": [
       "([<matplotlib.axis.XTick at 0x1f9ee669be0>,\n",
       "  <matplotlib.axis.XTick at 0x1f9ee669bb0>,\n",
       "  <matplotlib.axis.XTick at 0x1f9ee6696a0>],\n",
       " [Text(0, 0, 'best fit'), Text(1, 0, 'worst fit'), Text(2, 0, 'first fit')])"
      ]
     },
     "execution_count": 4,
     "metadata": {},
     "output_type": "execute_result"
    },
    {
     "data": {
      "image/png": "[encoded data removed]",
      "text/plain": [
       "<Figure size 640x480 with 1 Axes>"
      ]
     },
     "metadata": {},
     "output_type": "display_data"
    }
   ],
   "source": [
    "avg_return_per_session = []\n",
    "action_counts_per_session = []\n",
    "training_steps = 40000\n",
    "for train_and_rollout in range(5):\n",
    "    model = DQN(\"MlpPolicy\", env, verbose=1, policy_kwargs=policy_kwargs, learning_rate=0.0001, device=\"cuda\", gamma=1)\n",
    "    model.learn(total_timesteps=training_steps, log_interval=training_steps, progress_bar=True)\n",
    "    num_actions = 3\n",
    "    obs, info = env.reset()\n",
    "    i = 0\n",
    "    rewards = []\n",
    "    curr_reward = 0\n",
    "    action_counts = [0] * num_actions\n",
    "    total=100\n",
    "    pbar = tqdm(total = total)\n",
    "    while i < total:\n",
    "        action, _states = model.predict(obs, deterministic=True)\n",
    "        action_counts[action] += 1\n",
    "        #print(action)\n",
    "        obs, reward, terminated, truncated, info = env.step(action)\n",
    "        if reward != .1 and reward != 0:\n",
    "            print(reward)\n",
    "        #print(reward != 1)\n",
    "        curr_reward += reward\n",
    "        if terminated or truncated:\n",
    "            pbar.update(1)\n",
    "            obs, info = env.reset()\n",
    "            i += 1\n",
    "            rewards.append(curr_reward)\n",
    "            curr_reward = 0\n",
    "\n",
    "    print(np.mean(rewards))\n",
    "    avg_return_per_session.append(np.mean(rewards))\n",
    "    action_counts_per_session.append(action_counts)\n",
    "\n",
    "model_conf_int = mean_confidence_interval(np.array(avg_return_per_session))\n",
    "model_conf_int = np.array(model_conf_int)\n",
    "\n",
    "print(f\"Model confidence interval: {model_conf_int}\")\n",
    "\n",
    "action_counts_per_session = np.array(action_counts_per_session)\n",
    "action_counts_per_session = np.sum(action_counts_per_session, axis=0)\n",
    "action_counts_per_session = action_counts_per_session / np.sum(action_counts_per_session)\n",
    "\n",
    "plt.bar(np.arange(3), action_counts_per_session)\n",
    "plt.title(f\"High-level action frequences of using {net_name} network and history len {history_len} on {allocator_name} allocator\")\n",
    "plt.xticks(np.arange(3), [\"best fit\", \"worst fit\", \"first fit\"])"
   ]
  },
  {
   "cell_type": "markdown",
   "metadata": {},
   "source": [
    "Baselines (best fit, worst fit, first fit)"
   ]
  },
  {
   "cell_type": "code",
   "execution_count": 5,
   "metadata": {},
   "outputs": [
    {
     "name": "stderr",
     "output_type": "stream",
     "text": [
      "100%|██████████| 3/3 [00:03<00:00,  1.17s/it]"
     ]
    },
    {
     "name": "stdout",
     "output_type": "stream",
     "text": [
      "[(4.689951411026036, 8.526048588973996, 6.608000000000016), (3.5088291049187808, 6.4391708950812285, 4.974000000000005), (0.8748197209147949, 1.0771802790852054, 0.9760000000000002)]\n"
     ]
    },
    {
     "name": "stderr",
     "output_type": "stream",
     "text": [
      "\n"
     ]
    }
   ],
   "source": [
    "conf_ints_baselines = []\n",
    "for allocator in tqdm(range(3)):\n",
    "    obs, info = env.reset()\n",
    "    i = 0\n",
    "    rewards = []\n",
    "    curr_reward = 0\n",
    "    while i < 100:\n",
    "        #action, _states = model.predict(obs, deterministic=True)\n",
    "        #print(action)\n",
    "        obs, reward, terminated, truncated, info = env.step(allocator)\n",
    "        if reward != .1 and reward != 0:\n",
    "            print(reward)\n",
    "        #print(reward != 1)\n",
    "        curr_reward += reward\n",
    "        if terminated or truncated:\n",
    "            obs, info = env.reset()\n",
    "            i += 1\n",
    "            rewards.append(curr_reward)\n",
    "            curr_reward = 0\n",
    "\n",
    "    #print(allocator, mean_confidence_interval(np.array(rewards)))\n",
    "\n",
    "    conf_ints_baselines.append(mean_confidence_interval(np.array(rewards)))\n",
    "\n",
    "print(conf_ints_baselines)\n",
    "conf_ints_baselines = np.array(conf_ints_baselines)\n",
    "    "
   ]
  },
  {
   "cell_type": "code",
   "execution_count": 6,
   "metadata": {},
   "outputs": [
    {
     "data": {
      "image/png": "[encoded data removed]",
      "text/plain": [
       "<Figure size 640x480 with 1 Axes>"
      ]
     },
     "metadata": {},
     "output_type": "display_data"
    },
    {
     "name": "stderr",
     "output_type": "stream",
     "text": [
      "100%|██████████| 100/100 [00:22<00:00, 34.98it/s]"
     ]
    }
   ],
   "source": [
    "#create a bar graph with the confidence intervals\n",
    "import os\n",
    "all_conf_ints = np.vstack((model_conf_int, conf_ints_baselines))\n",
    "\n",
    "plt.bar(x=np.arange(4), height=all_conf_ints[:,2], yerr=all_conf_ints[:, 2] - all_conf_ints[:, 0])\n",
    "plt.title(f\"Average return over 100 episodes for \\\"{allocator_name}\\\" alloc sequences \\n with 95% confidence intervals, using {net_name} network and history len {history_len} \\n {training_steps} training steps\")\n",
    "plt.xticks(np.arange(4), [\"our policy\", \"best fit\", \"worst fit\", \"first fit\"])\n",
    "\n",
    "out_dir = f\"results/{allocator_name}\"\n",
    "os.makedirs(out_dir, exist_ok=True)\n",
    "plt.ylim(top=max(all_conf_ints[:,1]) + 5)\n",
    "plt.savefig(os.path.join(out_dir, f\"{allocator_name}_{net_name}_{history_len}_{training_steps}.png\"), bbox_inches = \"tight\")\n",
    "np.savetxt(os.path.join(out_dir, f\"{allocator_name}_{net_name}_{history_len}_{training_steps}.txt\"), all_conf_ints) #in order of model, best fit, worst fit, first fit"
   ]
  }
 ],
 "metadata": {
  "kernelspec": {
   "display_name": "Python 3",
   "language": "python",
   "name": "python3"
  },
  "language_info": {
   "codemirror_mode": {
    "name": "ipython",
    "version": 3
   },
   "file_extension": ".py",
   "mimetype": "text/x-python",
   "name": "python",
   "nbconvert_exporter": "python",
   "pygments_lexer": "ipython3",
   "version": "3.8.17"
  }
 },
 "nbformat": 4,
 "nbformat_minor": 2
}
