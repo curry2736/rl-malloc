{
 "cells": [
  {
   "cell_type": "code",
   "execution_count": 1,
   "metadata": {},
   "outputs": [],
   "source": [
    "from sb_value_function_kwargs import fc_policy_kwargs, cnn_policy_kwargs, linear_policy_kwargs\n",
    "from environments.stable_baselines_env import StableBaselineEnv\n",
    "from environments.stable_baselines_env_linear import StableBaselineEnvLinear\n",
    "from environments.stable_baselines_env_linear_history import StableBaselineEnvLinearHistory\n",
    "from environments.stable_baselines_env_history import StableBaselineEnvHistory\n",
    "from stable_baselines3 import DQN, PPO\n",
    "from stable_baselines3.common.env_checker import check_env\n",
    "import numpy as np\n",
    "import matplotlib.pyplot as plt\n",
    "from tqdm import tqdm\n",
    "from scipy import stats"
   ]
  },
  {
   "cell_type": "code",
   "execution_count": 2,
   "metadata": {},
   "outputs": [
    {
     "name": "stdout",
     "output_type": "stream",
     "text": [
      "<class 'request_streams.mixed_ff_bad_wf_good.MixedFFBadWFGood'>\n",
      "Using cuda device\n",
      "Wrapping the env with a `Monitor` wrapper\n",
      "Wrapping the env in a DummyVecEnv.\n",
      "Box(0, 256, (1, 267), int32)\n",
      "{'policy_class': <class 'stable_baselines3.dqn.policies.DQNPolicy'>, 'device': device(type='cuda'), 'verbose': 1, 'policy_kwargs': {'features_extractor_class': <class 'sb_value_function_kwargs.CustomCNN'>, 'net_arch': []}, 'num_timesteps': 0, '_total_timesteps': 0, '_num_timesteps_at_start': 0, 'seed': None, 'action_noise': None, 'start_time': 0.0, 'learning_rate': 0.0001, 'tensorboard_log': None, '_last_obs': None, '_last_episode_starts': None, '_last_original_obs': None, '_episode_num': 0, 'use_sde': False, 'sde_sample_freq': -1, '_current_progress_remaining': 1.0, '_stats_window_size': 100, 'ep_info_buffer': None, 'ep_success_buffer': None, '_n_updates': 0, '_custom_logger': False, 'env': <stable_baselines3.common.vec_env.dummy_vec_env.DummyVecEnv object at 0x0000023C7FC21580>, '_vec_normalize_env': None, 'observation_space': Box(0, 256, (1, 267), int32), 'action_space': Discrete(3), 'n_envs': 1, 'buffer_size': 1000000, 'batch_size': 32, 'learning_starts': 100, 'tau': 1.0, 'gamma': 0.99, 'gradient_steps': 1, 'optimize_memory_usage': False, 'replay_buffer': <stable_baselines3.common.buffers.ReplayBuffer object at 0x0000023C7FC21460>, 'replay_buffer_class': <class 'stable_baselines3.common.buffers.ReplayBuffer'>, 'replay_buffer_kwargs': {}, '_episode_storage': None, 'train_freq': TrainFreq(frequency=4, unit=<TrainFrequencyUnit.STEP: 'step'>), 'use_sde_at_warmup': False, 'exploration_initial_eps': 1.0, 'exploration_final_eps': 0.05, 'exploration_fraction': 0.1, 'target_update_interval': 10000, '_n_calls': 0, 'max_grad_norm': 10, 'exploration_rate': 0.0, 'lr_schedule': <function get_schedule_fn.<locals>.<lambda> at 0x0000023C7FC24700>, 'policy': DQNPolicy(\n",
      "  (q_net): QNetwork(\n",
      "    (features_extractor): CustomCNN(\n",
      "      (cnn): Sequential(\n",
      "        (0): Conv1d(1, 16, kernel_size=(5,), stride=(1,))\n",
      "        (1): ReLU()\n",
      "        (2): MaxPool1d(kernel_size=4, stride=4, padding=0, dilation=1, ceil_mode=False)\n",
      "        (3): Conv1d(16, 32, kernel_size=(3,), stride=(1,))\n",
      "        (4): MaxPool1d(kernel_size=2, stride=2, padding=0, dilation=1, ceil_mode=False)\n",
      "        (5): ReLU()\n",
      "        (6): Flatten(start_dim=1, end_dim=-1)\n",
      "      )\n",
      "      (linear): Sequential(\n",
      "        (0): Linear(in_features=992, out_features=256, bias=True)\n",
      "        (1): ReLU()\n",
      "      )\n",
      "    )\n",
      "    (q_net): Sequential(\n",
      "      (0): Linear(in_features=256, out_features=3, bias=True)\n",
      "    )\n",
      "  )\n",
      "  (q_net_target): QNetwork(\n",
      "    (features_extractor): CustomCNN(\n",
      "      (cnn): Sequential(\n",
      "        (0): Conv1d(1, 16, kernel_size=(5,), stride=(1,))\n",
      "        (1): ReLU()\n",
      "        (2): MaxPool1d(kernel_size=4, stride=4, padding=0, dilation=1, ceil_mode=False)\n",
      "        (3): Conv1d(16, 32, kernel_size=(3,), stride=(1,))\n",
      "        (4): MaxPool1d(kernel_size=2, stride=2, padding=0, dilation=1, ceil_mode=False)\n",
      "        (5): ReLU()\n",
      "        (6): Flatten(start_dim=1, end_dim=-1)\n",
      "      )\n",
      "      (linear): Sequential(\n",
      "        (0): Linear(in_features=992, out_features=256, bias=True)\n",
      "        (1): ReLU()\n",
      "      )\n",
      "    )\n",
      "    (q_net): Sequential(\n",
      "      (0): Linear(in_features=256, out_features=3, bias=True)\n",
      "    )\n",
      "  )\n",
      "), 'q_net': QNetwork(\n",
      "  (features_extractor): CustomCNN(\n",
      "    (cnn): Sequential(\n",
      "      (0): Conv1d(1, 16, kernel_size=(5,), stride=(1,))\n",
      "      (1): ReLU()\n",
      "      (2): MaxPool1d(kernel_size=4, stride=4, padding=0, dilation=1, ceil_mode=False)\n",
      "      (3): Conv1d(16, 32, kernel_size=(3,), stride=(1,))\n",
      "      (4): MaxPool1d(kernel_size=2, stride=2, padding=0, dilation=1, ceil_mode=False)\n",
      "      (5): ReLU()\n",
      "      (6): Flatten(start_dim=1, end_dim=-1)\n",
      "    )\n",
      "    (linear): Sequential(\n",
      "      (0): Linear(in_features=992, out_features=256, bias=True)\n",
      "      (1): ReLU()\n",
      "    )\n",
      "  )\n",
      "  (q_net): Sequential(\n",
      "    (0): Linear(in_features=256, out_features=3, bias=True)\n",
      "  )\n",
      "), 'q_net_target': QNetwork(\n",
      "  (features_extractor): CustomCNN(\n",
      "    (cnn): Sequential(\n",
      "      (0): Conv1d(1, 16, kernel_size=(5,), stride=(1,))\n",
      "      (1): ReLU()\n",
      "      (2): MaxPool1d(kernel_size=4, stride=4, padding=0, dilation=1, ceil_mode=False)\n",
      "      (3): Conv1d(16, 32, kernel_size=(3,), stride=(1,))\n",
      "      (4): MaxPool1d(kernel_size=2, stride=2, padding=0, dilation=1, ceil_mode=False)\n",
      "      (5): ReLU()\n",
      "      (6): Flatten(start_dim=1, end_dim=-1)\n",
      "    )\n",
      "    (linear): Sequential(\n",
      "      (0): Linear(in_features=992, out_features=256, bias=True)\n",
      "      (1): ReLU()\n",
      "    )\n",
      "  )\n",
      "  (q_net): Sequential(\n",
      "    (0): Linear(in_features=256, out_features=3, bias=True)\n",
      "  )\n",
      "), 'batch_norm_stats': [], 'batch_norm_stats_target': [], 'exploration_schedule': <function get_linear_fn.<locals>.func at 0x0000023C7FC248B0>}\n"
     ]
    }
   ],
   "source": [
    "allocator_name = \"mixed_ff_bad_wf_good\"\n",
    "#TODO: CHANGE BOTH POLICY KWARGS AND NET NAME\n",
    "policy_kwargs = cnn_policy_kwargs\n",
    "net_name = \"cnn\"\n",
    "history_len = 10\n",
    "env = StableBaselineEnvHistory(allocator=allocator_name, page_size=256, history_len=history_len)\n",
    "\n",
    "\n",
    "model = DQN(\"MlpPolicy\", env, verbose=1, policy_kwargs=policy_kwargs, learning_rate=0.0001, device=\"cuda\")\n",
    "#model attributes\n",
    "print(env.observation_space)\n",
    "print(model.__dict__)"
   ]
  },
  {
   "cell_type": "code",
   "execution_count": 3,
   "metadata": {},
   "outputs": [],
   "source": [
    "def mean_confidence_interval(data, confidence=0.95):\n",
    "    n = data.shape[0]\n",
    "    mean, std_err = np.mean(data), np.std(data) / np.sqrt(n)\n",
    "    interval = std_err * stats.t.ppf((1 + confidence) / 2, n - 1)\n",
    "    return mean - interval, mean + interval, mean"
   ]
  },
  {
   "cell_type": "markdown",
   "metadata": {},
   "source": [
    "Training & Rollout of policy"
   ]
  },
  {
   "cell_type": "code",
   "execution_count": 4,
   "metadata": {},
   "outputs": [
    {
     "data": {
      "application/vnd.jupyter.widget-view+json": {
       "model_id": "92a3381303f34da5992b6aae593f3107",
       "version_major": 2,
       "version_minor": 0
      },
      "text/plain": [
       "Output()"
      ]
     },
     "metadata": {},
     "output_type": "display_data"
    },
    {
     "data": {
      "text/html": [
       "<pre style=\"white-space:pre;overflow-x:auto;line-height:normal;font-family:Menlo,'DejaVu Sans Mono',consolas,'Courier New',monospace\"></pre>\n"
      ],
      "text/plain": []
     },
     "metadata": {},
     "output_type": "display_data"
    },
    {
     "data": {
      "text/html": [
       "<pre style=\"white-space:pre;overflow-x:auto;line-height:normal;font-family:Menlo,'DejaVu Sans Mono',consolas,'Courier New',monospace\">\n",
       "</pre>\n"
      ],
      "text/plain": [
       "\n"
      ]
     },
     "metadata": {},
     "output_type": "display_data"
    },
    {
     "name": "stderr",
     "output_type": "stream",
     "text": [
      "100%|██████████| 100/100 [00:29<00:00,  2.88it/s]"
     ]
    },
    {
     "data": {
      "application/vnd.jupyter.widget-view+json": {
       "model_id": "db6e9b8a23f746f9bba6bef21b3cb75b",
       "version_major": 2,
       "version_minor": 0
      },
      "text/plain": [
       "Output()"
      ]
     },
     "metadata": {},
     "output_type": "display_data"
    },
    {
     "name": "stdout",
     "output_type": "stream",
     "text": [
      "22.12400000000006\n"
     ]
    },
    {
     "data": {
      "text/html": [
       "<pre style=\"white-space:pre;overflow-x:auto;line-height:normal;font-family:Menlo,'DejaVu Sans Mono',consolas,'Courier New',monospace\"></pre>\n"
      ],
      "text/plain": []
     },
     "metadata": {},
     "output_type": "display_data"
    },
    {
     "data": {
      "text/html": [
       "<pre style=\"white-space:pre;overflow-x:auto;line-height:normal;font-family:Menlo,'DejaVu Sans Mono',consolas,'Courier New',monospace\">\n",
       "</pre>\n"
      ],
      "text/plain": [
       "\n"
      ]
     },
     "metadata": {},
     "output_type": "display_data"
    },
    {
     "name": "stderr",
     "output_type": "stream",
     "text": [
      "100%|██████████| 100/100 [01:25<00:00,  1.17it/s]\n"
     ]
    },
    {
     "data": {
      "application/vnd.jupyter.widget-view+json": {
       "model_id": "e55e700dd099470ba88beb2e0f4848e0",
       "version_major": 2,
       "version_minor": 0
      },
      "text/plain": [
       "Output()"
      ]
     },
     "metadata": {},
     "output_type": "display_data"
    },
    {
     "name": "stdout",
     "output_type": "stream",
     "text": [
      "22.656000000000066\n"
     ]
    },
    {
     "data": {
      "text/html": [
       "<pre style=\"white-space:pre;overflow-x:auto;line-height:normal;font-family:Menlo,'DejaVu Sans Mono',consolas,'Courier New',monospace\"></pre>\n"
      ],
      "text/plain": []
     },
     "metadata": {},
     "output_type": "display_data"
    },
    {
     "data": {
      "text/html": [
       "<pre style=\"white-space:pre;overflow-x:auto;line-height:normal;font-family:Menlo,'DejaVu Sans Mono',consolas,'Courier New',monospace\">\n",
       "</pre>\n"
      ],
      "text/plain": [
       "\n"
      ]
     },
     "metadata": {},
     "output_type": "display_data"
    },
    {
     "name": "stderr",
     "output_type": "stream",
     "text": [
      "100%|██████████| 100/100 [01:21<00:00,  1.22it/s]\n",
      "100%|██████████| 100/100 [00:29<00:00,  3.06it/s]"
     ]
    },
    {
     "data": {
      "application/vnd.jupyter.widget-view+json": {
       "model_id": "924afc618da84b20bb2df3a89c6857c3",
       "version_major": 2,
       "version_minor": 0
      },
      "text/plain": [
       "Output()"
      ]
     },
     "metadata": {},
     "output_type": "display_data"
    },
    {
     "name": "stdout",
     "output_type": "stream",
     "text": [
      "23.17700000000007\n"
     ]
    },
    {
     "data": {
      "text/html": [
       "<pre style=\"white-space:pre;overflow-x:auto;line-height:normal;font-family:Menlo,'DejaVu Sans Mono',consolas,'Courier New',monospace\"></pre>\n"
      ],
      "text/plain": []
     },
     "metadata": {},
     "output_type": "display_data"
    },
    {
     "data": {
      "text/html": [
       "<pre style=\"white-space:pre;overflow-x:auto;line-height:normal;font-family:Menlo,'DejaVu Sans Mono',consolas,'Courier New',monospace\">\n",
       "</pre>\n"
      ],
      "text/plain": [
       "\n"
      ]
     },
     "metadata": {},
     "output_type": "display_data"
    },
    {
     "name": "stderr",
     "output_type": "stream",
     "text": [
      "100%|██████████| 100/100 [01:18<00:00,  1.27it/s]\n"
     ]
    },
    {
     "data": {
      "application/vnd.jupyter.widget-view+json": {
       "model_id": "0f3199e2f9074db1a72487e6992712fa",
       "version_major": 2,
       "version_minor": 0
      },
      "text/plain": [
       "Output()"
      ]
     },
     "metadata": {},
     "output_type": "display_data"
    },
    {
     "name": "stdout",
     "output_type": "stream",
     "text": [
      "22.436000000000057\n"
     ]
    },
    {
     "data": {
      "text/html": [
       "<pre style=\"white-space:pre;overflow-x:auto;line-height:normal;font-family:Menlo,'DejaVu Sans Mono',consolas,'Courier New',monospace\"></pre>\n"
      ],
      "text/plain": []
     },
     "metadata": {},
     "output_type": "display_data"
    },
    {
     "data": {
      "text/html": [
       "<pre style=\"white-space:pre;overflow-x:auto;line-height:normal;font-family:Menlo,'DejaVu Sans Mono',consolas,'Courier New',monospace\">\n",
       "</pre>\n"
      ],
      "text/plain": [
       "\n"
      ]
     },
     "metadata": {},
     "output_type": "display_data"
    },
    {
     "name": "stderr",
     "output_type": "stream",
     "text": [
      "100%|██████████| 100/100 [01:18<00:00,  1.27it/s]\n",
      "100%|██████████| 100/100 [00:27<00:00,  3.87it/s]"
     ]
    },
    {
     "name": "stdout",
     "output_type": "stream",
     "text": [
      "23.03700000000007\n"
     ]
    },
    {
     "data": {
      "text/plain": [
       "([<matplotlib.axis.XTick at 0x23c379ed0d0>,\n",
       "  <matplotlib.axis.XTick at 0x23c379ed0a0>,\n",
       "  <matplotlib.axis.XTick at 0x23c379d3f70>],\n",
       " [Text(0, 0, 'best fit'), Text(1, 0, 'worst fit'), Text(2, 0, 'first fit')])"
      ]
     },
     "execution_count": 4,
     "metadata": {},
     "output_type": "execute_result"
    },
    {
     "data": {
      "image/png": "[encoded data removed]",
      "text/plain": [
       "<Figure size 640x480 with 1 Axes>"
      ]
     },
     "metadata": {},
     "output_type": "display_data"
    }
   ],
   "source": [
    "avg_return_per_session = []\n",
    "action_counts_per_session = []\n",
    "for train_and_rollout in range(5):\n",
    "    model.learn(total_timesteps=20000, log_interval=20000, progress_bar=True)\n",
    "    num_actions = 3\n",
    "    obs, info = env.reset()\n",
    "    i = 0\n",
    "    rewards = []\n",
    "    curr_reward = 0\n",
    "    action_counts = [0] * num_actions\n",
    "    total=100\n",
    "    pbar = tqdm(total = total)\n",
    "    while i < total:\n",
    "        action, _states = model.predict(obs, deterministic=True)\n",
    "        action_counts[action] += 1\n",
    "        #print(action)\n",
    "        obs, reward, terminated, truncated, info = env.step(action)\n",
    "        if reward != .1 and reward != 0:\n",
    "            print(reward)\n",
    "        #print(reward != 1)\n",
    "        curr_reward += reward\n",
    "        if terminated or truncated:\n",
    "            pbar.update(1)\n",
    "            obs, info = env.reset()\n",
    "            i += 1\n",
    "            rewards.append(curr_reward)\n",
    "            curr_reward = 0\n",
    "\n",
    "    print(np.mean(rewards))\n",
    "    avg_return_per_session.append(np.mean(rewards))\n",
    "    action_counts_per_session.append(action_counts)\n",
    "\n",
    "model_conf_int = mean_confidence_interval(np.array(avg_return_per_session))\n",
    "model_conf_int = np.array(model_conf_int)\n",
    "\n",
    "action_counts_per_session = np.array(action_counts_per_session)\n",
    "action_counts_per_session = np.sum(action_counts_per_session, axis=0)\n",
    "action_counts_per_session = action_counts_per_session / np.sum(action_counts_per_session)\n",
    "\n",
    "plt.bar(np.arange(3), action_counts_per_session)\n",
    "plt.title(f\"High-level action frequences of using {net_name} network and history len {history_len} on {allocator_name} allocator\")\n",
    "plt.xticks(np.arange(3), [\"best fit\", \"worst fit\", \"first fit\"])"
   ]
  },
  {
   "cell_type": "markdown",
   "metadata": {},
   "source": [
    "Baselines (best fit, worst fit, first fit)"
   ]
  },
  {
   "cell_type": "code",
   "execution_count": 5,
   "metadata": {},
   "outputs": [
    {
     "name": "stderr",
     "output_type": "stream",
     "text": [
      "100%|██████████| 3/3 [00:02<00:00,  1.24it/s]"
     ]
    },
    {
     "name": "stdout",
     "output_type": "stream",
     "text": [
      "[(5.190397999941631, 8.987602000058393, 7.089000000000012), (4.766350625295733, 8.17164937470428, 6.4690000000000065), (0.8593967893832689, 1.0766032106167311, 0.9680000000000001)]\n"
     ]
    },
    {
     "name": "stderr",
     "output_type": "stream",
     "text": [
      "\n"
     ]
    }
   ],
   "source": [
    "conf_ints_baselines = []\n",
    "for allocator in tqdm(range(3)):\n",
    "    obs, info = env.reset()\n",
    "    i = 0\n",
    "    rewards = []\n",
    "    curr_reward = 0\n",
    "    while i < 100:\n",
    "        #action, _states = model.predict(obs, deterministic=True)\n",
    "        #print(action)\n",
    "        obs, reward, terminated, truncated, info = env.step(allocator)\n",
    "        if reward != .1 and reward != 0:\n",
    "            print(reward)\n",
    "        #print(reward != 1)\n",
    "        curr_reward += reward\n",
    "        if terminated or truncated:\n",
    "            obs, info = env.reset()\n",
    "            i += 1\n",
    "            rewards.append(curr_reward)\n",
    "            curr_reward = 0\n",
    "\n",
    "    #print(allocator, mean_confidence_interval(np.array(rewards)))\n",
    "\n",
    "    conf_ints_baselines.append(mean_confidence_interval(np.array(rewards)))\n",
    "\n",
    "print(conf_ints_baselines)\n",
    "conf_ints_baselines = np.array(conf_ints_baselines)\n",
    "    "
   ]
  },
  {
   "cell_type": "code",
   "execution_count": 11,
   "metadata": {},
   "outputs": [
    {
     "data": {
      "image/png": "[encoded data removed]",
      "text/plain": [
       "<Figure size 640x480 with 1 Axes>"
      ]
     },
     "metadata": {},
     "output_type": "display_data"
    }
   ],
   "source": [
    "#create a bar graph with the confidence intervals\n",
    "import os\n",
    "all_conf_ints = np.vstack((model_conf_int, conf_ints_baselines))\n",
    "\n",
    "plt.bar(x=np.arange(4), height=all_conf_ints[:,2], yerr=all_conf_ints[:, 2] - all_conf_ints[:, 0])\n",
    "plt.title(f\"Average return over 1000 episodes for \\\"{allocator_name}\\\" alloc sequences \\n with 95% confidence intervals, using {net_name} network and history len {history_len}\")\n",
    "plt.xticks(np.arange(4), [\"our policy\", \"best fit\", \"worst fit\", \"first fit\"])\n",
    "\n",
    "out_dir = f\"results/{allocator_name}\"\n",
    "os.makedirs(out_dir, exist_ok=True)\n",
    "plt.ylim(top=max(all_conf_ints[:,2]) + 5)\n",
    "plt.savefig(os.path.join(out_dir, f\"{allocator_name}_{net_name}_{history_len}.png\"), bbox_inches = \"tight\")\n",
    "np.savetxt(os.path.join(out_dir, f\"{allocator_name}_{net_name}_{history_len}.txt\"), all_conf_ints)"
   ]
  }
 ],
 "metadata": {
  "kernelspec": {
   "display_name": "Python 3",
   "language": "python",
   "name": "python3"
  },
  "language_info": {
   "codemirror_mode": {
    "name": "ipython",
    "version": 3
   },
   "file_extension": ".py",
   "mimetype": "text/x-python",
   "name": "python",
   "nbconvert_exporter": "python",
   "pygments_lexer": "ipython3",
   "version": "3.8.0"
  }
 },
 "nbformat": 4,
 "nbformat_minor": 2
}
